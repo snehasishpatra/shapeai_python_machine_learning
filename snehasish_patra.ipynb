{
  "cells": [
    {
      "cell_type": "code",
      "execution_count": null,
      "metadata": {
        "id": "U4QuTVMvzYpN"
      },
      "outputs": [],
      "source": [
        "# pip install numpy"
      ]
    },
    {
      "cell_type": "code",
      "execution_count": null,
      "metadata": {
        "id": "k7UtCjXj3dxY"
      },
      "outputs": [],
      "source": [
        "# !pip install pandas==0.23.4"
      ]
    },
    {
      "cell_type": "code",
      "execution_count": null,
      "metadata": {
        "id": "9-v2VyL74G0n"
      },
      "outputs": [],
      "source": [
        "# pip install sklearn"
      ]
    },
    {
      "cell_type": "code",
      "execution_count": 6,
      "metadata": {
        "id": "hvCL-jLQqS9y"
      },
      "outputs": [],
      "source": [
        "import numpy as np\n",
        "import pandas as pd\n",
        "import sklearn"
      ]
    },
    {
      "cell_type": "code",
      "execution_count": null,
      "metadata": {
        "id": "rnlXoj1e6p8l"
      },
      "outputs": [],
      "source": [
        "from sklearn.datasets import load_boston\n",
        "df = load_boston()"
      ]
    },
    {
      "cell_type": "code",
      "execution_count": null,
      "metadata": {
        "id": "CFprYnhi7Awr"
      },
      "outputs": [],
      "source": [
        "df.keys()"
      ]
    },
    {
      "cell_type": "code",
      "execution_count": null,
      "metadata": {
        "id": "nJf2jGl98Bby"
      },
      "outputs": [],
      "source": [
        "print(df.DESCR)"
      ]
    },
    {
      "cell_type": "code",
      "execution_count": null,
      "metadata": {
        "id": "Vq__Z0yT8pXi"
      },
      "outputs": [],
      "source": [
        "boston = pd.DataFrame(df.data, columns=df.feature_names)\n",
        "boston.head()"
      ]
    },
    {
      "cell_type": "code",
      "execution_count": null,
      "metadata": {
        "id": "jvbOpzkY969R"
      },
      "outputs": [],
      "source": [
        "boston['MEDV'] = df.target\n",
        "boston.head()"
      ]
    },
    {
      "cell_type": "code",
      "execution_count": null,
      "metadata": {
        "id": "HH1qy5a6-Oww"
      },
      "outputs": [],
      "source": [
        "boston.isnull()"
      ]
    },
    {
      "cell_type": "code",
      "execution_count": null,
      "metadata": {
        "id": "th9scjFg-YSA"
      },
      "outputs": [],
      "source": [
        "boston.isnull().sum()"
      ]
    },
    {
      "cell_type": "code",
      "execution_count": 27,
      "metadata": {
        "colab": {
          "base_uri": "https://localhost:8080/"
        },
        "id": "rcm1rl3H_d4P",
        "outputId": "3ef62367-d6e6-4662-df84-8f8d03e9e5f9"
      },
      "outputs": [
        {
          "name": "stdout",
          "output_type": "stream",
          "text": [
            "(430, 13)\n",
            "(76, 13)\n",
            "(430,)\n",
            "(76,)\n"
          ]
        }
      ],
      "source": [
        "from sklearn.model_selection import train_test_split\n",
        "\n",
        "X = boston.drop (\"MEDV\", axis=1)\n",
        "\n",
        "Y = boston['MEDV']\n",
        "\n",
        "X_train, X_test, Y_train, Y_test = train_test_split(X, Y, test_size = 0.15, random_state=5)\n",
        "\n",
        "print(X_train.shape)\n",
        "\n",
        "print (X_test.shape)\n",
        "\n",
        "print(Y_train. shape)\n",
        "\n",
        "print(Y_test.shape)"
      ]
    }
  ],
  "metadata": {
    "colab": {
      "provenance": []
    },
    "kernelspec": {
      "display_name": "Python 3",
      "name": "python3"
    },
    "language_info": {
      "name": "python"
    }
  },
  "nbformat": 4,
  "nbformat_minor": 0
}
